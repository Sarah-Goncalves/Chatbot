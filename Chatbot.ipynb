{
 "cells": [
  {
   "cell_type": "markdown",
   "metadata": {},
   "source": [
    "# Chatbot"
   ]
  },
  {
   "cell_type": "code",
   "execution_count": 1,
   "metadata": {},
   "outputs": [],
   "source": [
    "import pandas as pd\n",
    "import numpy as np"
   ]
  },
  {
   "cell_type": "markdown",
   "metadata": {},
   "source": [
    "### The data:"
   ]
  },
  {
   "cell_type": "code",
   "execution_count": 2,
   "metadata": {},
   "outputs": [
    {
     "data": {
      "text/html": [
       "<div>\n",
       "<style scoped>\n",
       "    .dataframe tbody tr th:only-of-type {\n",
       "        vertical-align: middle;\n",
       "    }\n",
       "\n",
       "    .dataframe tbody tr th {\n",
       "        vertical-align: top;\n",
       "    }\n",
       "\n",
       "    .dataframe thead th {\n",
       "        text-align: right;\n",
       "    }\n",
       "</style>\n",
       "<table border=\"1\" class=\"dataframe\">\n",
       "  <thead>\n",
       "    <tr style=\"text-align: right;\">\n",
       "      <th></th>\n",
       "      <th>Questions</th>\n",
       "      <th>Réponses</th>\n",
       "    </tr>\n",
       "  </thead>\n",
       "  <tbody>\n",
       "    <tr>\n",
       "      <th>0</th>\n",
       "      <td>Que récolte le patch?</td>\n",
       "      <td>Le patch récolte plusieurs paramètres physiol...</td>\n",
       "    </tr>\n",
       "    <tr>\n",
       "      <th>1</th>\n",
       "      <td>Combien coûte le patch?</td>\n",
       "      <td>Il faut compter environ une cinquantaine d eu...</td>\n",
       "    </tr>\n",
       "    <tr>\n",
       "      <th>2</th>\n",
       "      <td>Où vont mes données?</td>\n",
       "      <td>Ils vont sur un serveur sécurisé pour permett...</td>\n",
       "    </tr>\n",
       "    <tr>\n",
       "      <th>3</th>\n",
       "      <td>Qui récolte mes données?</td>\n",
       "      <td>Les données sont récoltées sur un serveur séc...</td>\n",
       "    </tr>\n",
       "    <tr>\n",
       "      <th>4</th>\n",
       "      <td>Que fais-ce patch?</td>\n",
       "      <td>Il récolte des données physiologiques pour su...</td>\n",
       "    </tr>\n",
       "    <tr>\n",
       "      <th>5</th>\n",
       "      <td>Qui dirige Devinnova ?</td>\n",
       "      <td>Le directeur est Fabrice Vaussenat.</td>\n",
       "    </tr>\n",
       "    <tr>\n",
       "      <th>6</th>\n",
       "      <td>Qui est le directeur de Devinnova ?</td>\n",
       "      <td>Le directeur est Fabrice Vaussenat.</td>\n",
       "    </tr>\n",
       "    <tr>\n",
       "      <th>7</th>\n",
       "      <td>Qui puis-je appeler pour plus de renseignements ?</td>\n",
       "      <td>Voici le numéro du service communication : 061...</td>\n",
       "    </tr>\n",
       "    <tr>\n",
       "      <th>8</th>\n",
       "      <td>Devinnova, c est quoi ?</td>\n",
       "      <td>Elle est une entreprise qui souhaite mettre l...</td>\n",
       "    </tr>\n",
       "    <tr>\n",
       "      <th>9</th>\n",
       "      <td>Pourquoi récolter mes données ?</td>\n",
       "      <td>Pour pouvoir traiter l activité de votre coeu...</td>\n",
       "    </tr>\n",
       "  </tbody>\n",
       "</table>\n",
       "</div>"
      ],
      "text/plain": [
       "                                           Questions  \\\n",
       "0                              Que récolte le patch?   \n",
       "1                           Combien coûte le patch?    \n",
       "2                               Où vont mes données?   \n",
       "3                           Qui récolte mes données?   \n",
       "4                                Que fais-ce patch?    \n",
       "5                             Qui dirige Devinnova ?   \n",
       "6               Qui est le directeur de Devinnova ?    \n",
       "7  Qui puis-je appeler pour plus de renseignements ?   \n",
       "8                           Devinnova, c est quoi ?    \n",
       "9                    Pourquoi récolter mes données ?   \n",
       "\n",
       "                                            Réponses  \n",
       "0   Le patch récolte plusieurs paramètres physiol...  \n",
       "1   Il faut compter environ une cinquantaine d eu...  \n",
       "2   Ils vont sur un serveur sécurisé pour permett...  \n",
       "3   Les données sont récoltées sur un serveur séc...  \n",
       "4   Il récolte des données physiologiques pour su...  \n",
       "5                Le directeur est Fabrice Vaussenat.  \n",
       "6                Le directeur est Fabrice Vaussenat.  \n",
       "7  Voici le numéro du service communication : 061...  \n",
       "8   Elle est une entreprise qui souhaite mettre l...  \n",
       "9   Pour pouvoir traiter l activité de votre coeu...  "
      ]
     },
     "execution_count": 2,
     "metadata": {},
     "output_type": "execute_result"
    }
   ],
   "source": [
    "data = pd.read_csv(\"Questions_Rep.csv\", sep=\"\\t\")\n",
    "data.head(10)"
   ]
  },
  {
   "cell_type": "code",
   "execution_count": 3,
   "metadata": {},
   "outputs": [
    {
     "data": {
      "text/plain": [
       "(15, 2)"
      ]
     },
     "execution_count": 3,
     "metadata": {},
     "output_type": "execute_result"
    }
   ],
   "source": [
    "data.shape"
   ]
  },
  {
   "cell_type": "markdown",
   "metadata": {},
   "source": [
    "### Cleaning:"
   ]
  },
  {
   "cell_type": "code",
   "execution_count": 4,
   "metadata": {},
   "outputs": [
    {
     "data": {
      "text/html": [
       "<div>\n",
       "<style scoped>\n",
       "    .dataframe tbody tr th:only-of-type {\n",
       "        vertical-align: middle;\n",
       "    }\n",
       "\n",
       "    .dataframe tbody tr th {\n",
       "        vertical-align: top;\n",
       "    }\n",
       "\n",
       "    .dataframe thead th {\n",
       "        text-align: right;\n",
       "    }\n",
       "</style>\n",
       "<table border=\"1\" class=\"dataframe\">\n",
       "  <thead>\n",
       "    <tr style=\"text-align: right;\">\n",
       "      <th></th>\n",
       "      <th>Questions</th>\n",
       "      <th>Réponses</th>\n",
       "    </tr>\n",
       "  </thead>\n",
       "  <tbody>\n",
       "    <tr>\n",
       "      <th>0</th>\n",
       "      <td>que récolte le patch?</td>\n",
       "      <td>le patch récolte plusieurs paramètres physiol...</td>\n",
       "    </tr>\n",
       "    <tr>\n",
       "      <th>1</th>\n",
       "      <td>combien coûte le patch?</td>\n",
       "      <td>il faut compter environ une cinquantaine d eu...</td>\n",
       "    </tr>\n",
       "    <tr>\n",
       "      <th>2</th>\n",
       "      <td>où vont mes données?</td>\n",
       "      <td>ils vont sur un serveur sécurisé pour permett...</td>\n",
       "    </tr>\n",
       "    <tr>\n",
       "      <th>3</th>\n",
       "      <td>qui récolte mes données?</td>\n",
       "      <td>les données sont récoltées sur un serveur séc...</td>\n",
       "    </tr>\n",
       "    <tr>\n",
       "      <th>4</th>\n",
       "      <td>que fais-ce patch?</td>\n",
       "      <td>il récolte des données physiologiques pour su...</td>\n",
       "    </tr>\n",
       "  </tbody>\n",
       "</table>\n",
       "</div>"
      ],
      "text/plain": [
       "                  Questions                                           Réponses\n",
       "0     que récolte le patch?   le patch récolte plusieurs paramètres physiol...\n",
       "1  combien coûte le patch?    il faut compter environ une cinquantaine d eu...\n",
       "2      où vont mes données?   ils vont sur un serveur sécurisé pour permett...\n",
       "3  qui récolte mes données?   les données sont récoltées sur un serveur séc...\n",
       "4       que fais-ce patch?    il récolte des données physiologiques pour su..."
      ]
     },
     "execution_count": 4,
     "metadata": {},
     "output_type": "execute_result"
    }
   ],
   "source": [
    "# Here we pass all the characters into lowercases:\n",
    "\n",
    "data[\"Questions\"] = data[\"Questions\"].str.lower()\n",
    "data[\"Réponses\"] = data[\"Réponses\"].str.lower()\n",
    "data.head()"
   ]
  },
  {
   "cell_type": "code",
   "execution_count": 5,
   "metadata": {},
   "outputs": [
    {
     "data": {
      "text/html": [
       "<div>\n",
       "<style scoped>\n",
       "    .dataframe tbody tr th:only-of-type {\n",
       "        vertical-align: middle;\n",
       "    }\n",
       "\n",
       "    .dataframe tbody tr th {\n",
       "        vertical-align: top;\n",
       "    }\n",
       "\n",
       "    .dataframe thead th {\n",
       "        text-align: right;\n",
       "    }\n",
       "</style>\n",
       "<table border=\"1\" class=\"dataframe\">\n",
       "  <thead>\n",
       "    <tr style=\"text-align: right;\">\n",
       "      <th></th>\n",
       "      <th>Questions</th>\n",
       "      <th>Réponses</th>\n",
       "    </tr>\n",
       "  </thead>\n",
       "  <tbody>\n",
       "    <tr>\n",
       "      <th>0</th>\n",
       "      <td>que récolte le patch</td>\n",
       "      <td>le patch récolte plusieurs paramètres physiol...</td>\n",
       "    </tr>\n",
       "    <tr>\n",
       "      <th>1</th>\n",
       "      <td>combien coûte le patch</td>\n",
       "      <td>il faut compter environ une cinquantaine euros</td>\n",
       "    </tr>\n",
       "    <tr>\n",
       "      <th>2</th>\n",
       "      <td>où vont mes données</td>\n",
       "      <td>ils vont sur un serveur sécurisé pour permett...</td>\n",
       "    </tr>\n",
       "    <tr>\n",
       "      <th>3</th>\n",
       "      <td>qui récolte mes données</td>\n",
       "      <td>les données sont récoltées sur un serveur séc...</td>\n",
       "    </tr>\n",
       "    <tr>\n",
       "      <th>4</th>\n",
       "      <td>que fais ce patch</td>\n",
       "      <td>il récolte des données physiologiques pour su...</td>\n",
       "    </tr>\n",
       "  </tbody>\n",
       "</table>\n",
       "</div>"
      ],
      "text/plain": [
       "                 Questions                                           Réponses\n",
       "0     que récolte le patch   le patch récolte plusieurs paramètres physiol...\n",
       "1  combien coûte le patch    il faut compter environ une cinquantaine euros  \n",
       "2      où vont mes données   ils vont sur un serveur sécurisé pour permett...\n",
       "3  qui récolte mes données   les données sont récoltées sur un serveur séc...\n",
       "4       que fais ce patch    il récolte des données physiologiques pour su..."
      ]
     },
     "execution_count": 5,
     "metadata": {},
     "output_type": "execute_result"
    }
   ],
   "source": [
    "# Here we remove all the punctuation:\n",
    "\n",
    "import re\n",
    "\n",
    "data[\"Questions\"] = data[\"Questions\"].apply(lambda x: re.sub(r'(\\?)|(\\!)|(\\.)|(\\,)|(\\\")', '', x))\n",
    "data[\"Réponses\"] = data[\"Réponses\"].apply(lambda x: re.sub(r'(\\?)|(\\!)|(\\.)|(\\,)|(\\\")|(\\')', '', x))\n",
    "\n",
    "data[\"Questions\"] = data[\"Questions\"].apply(lambda x: re.sub(r'(\\')|(\\-)|(\\s\\w\\s)', ' ', x))\n",
    "data[\"Réponses\"] = data[\"Réponses\"].apply(lambda x: re.sub(r'(\\')|(\\-)|(\\s\\w\\s)', ' ', x))\n",
    "\n",
    "data.head()"
   ]
  },
  {
   "cell_type": "code",
   "execution_count": 6,
   "metadata": {},
   "outputs": [
    {
     "data": {
      "text/plain": [
       "' électrocardiogramme est le tracé de activité électrique du coeur il est une représentation graphique de activité du coeur grâce ce tracé il est possible après calcul de connaître la fréquence réspiratoire par exemple  '"
      ]
     },
     "execution_count": 6,
     "metadata": {},
     "output_type": "execute_result"
    }
   ],
   "source": [
    "data[\"Réponses\"][10]"
   ]
  },
  {
   "cell_type": "code",
   "execution_count": 7,
   "metadata": {},
   "outputs": [
    {
     "data": {
      "text/html": [
       "<div>\n",
       "<style scoped>\n",
       "    .dataframe tbody tr th:only-of-type {\n",
       "        vertical-align: middle;\n",
       "    }\n",
       "\n",
       "    .dataframe tbody tr th {\n",
       "        vertical-align: top;\n",
       "    }\n",
       "\n",
       "    .dataframe thead th {\n",
       "        text-align: right;\n",
       "    }\n",
       "</style>\n",
       "<table border=\"1\" class=\"dataframe\">\n",
       "  <thead>\n",
       "    <tr style=\"text-align: right;\">\n",
       "      <th></th>\n",
       "      <th>Questions</th>\n",
       "      <th>Réponses</th>\n",
       "    </tr>\n",
       "  </thead>\n",
       "  <tbody>\n",
       "    <tr>\n",
       "      <th>0</th>\n",
       "      <td>[que, récolte, le, patch]</td>\n",
       "      <td>[le, patch, récolte, plusieurs, paramètres, ph...</td>\n",
       "    </tr>\n",
       "    <tr>\n",
       "      <th>1</th>\n",
       "      <td>[combien, coûte, le, patch]</td>\n",
       "      <td>[il, faut, compter, environ, une, cinquantaine...</td>\n",
       "    </tr>\n",
       "    <tr>\n",
       "      <th>2</th>\n",
       "      <td>[où, vont, mes, données]</td>\n",
       "      <td>[ils, vont, sur, un, serveur, sécurisé, pour, ...</td>\n",
       "    </tr>\n",
       "    <tr>\n",
       "      <th>3</th>\n",
       "      <td>[qui, récolte, mes, données]</td>\n",
       "      <td>[les, données, sont, récoltées, sur, un, serve...</td>\n",
       "    </tr>\n",
       "    <tr>\n",
       "      <th>4</th>\n",
       "      <td>[que, fais, ce, patch]</td>\n",
       "      <td>[il, récolte, des, données, physiologiques, po...</td>\n",
       "    </tr>\n",
       "  </tbody>\n",
       "</table>\n",
       "</div>"
      ],
      "text/plain": [
       "                      Questions  \\\n",
       "0     [que, récolte, le, patch]   \n",
       "1   [combien, coûte, le, patch]   \n",
       "2      [où, vont, mes, données]   \n",
       "3  [qui, récolte, mes, données]   \n",
       "4        [que, fais, ce, patch]   \n",
       "\n",
       "                                            Réponses  \n",
       "0  [le, patch, récolte, plusieurs, paramètres, ph...  \n",
       "1  [il, faut, compter, environ, une, cinquantaine...  \n",
       "2  [ils, vont, sur, un, serveur, sécurisé, pour, ...  \n",
       "3  [les, données, sont, récoltées, sur, un, serve...  \n",
       "4  [il, récolte, des, données, physiologiques, po...  "
      ]
     },
     "execution_count": 7,
     "metadata": {},
     "output_type": "execute_result"
    }
   ],
   "source": [
    "# Here we operate a tokenization : we split the sentences by words:\n",
    "\n",
    "data[\"Questions\"] = data[\"Questions\"].apply(lambda x: x.split())\n",
    "data[\"Réponses\"] = data[\"Réponses\"].apply(lambda x: x.split())\n",
    "data.head()"
   ]
  },
  {
   "cell_type": "code",
   "execution_count": 8,
   "metadata": {},
   "outputs": [
    {
     "name": "stderr",
     "output_type": "stream",
     "text": [
      "[nltk_data] Downloading package stopwords to\n",
      "[nltk_data]     C:\\Users\\sarah\\AppData\\Roaming\\nltk_data...\n",
      "[nltk_data]   Package stopwords is already up-to-date!\n"
     ]
    }
   ],
   "source": [
    "import nltk\n",
    "\n",
    "nltk.download('stopwords')\n",
    "\n",
    "from nltk.corpus import stopwords\n",
    "\n",
    "stop_words = set(stopwords.words('french'))"
   ]
  },
  {
   "cell_type": "code",
   "execution_count": 9,
   "metadata": {},
   "outputs": [
    {
     "data": {
      "text/html": [
       "<div>\n",
       "<style scoped>\n",
       "    .dataframe tbody tr th:only-of-type {\n",
       "        vertical-align: middle;\n",
       "    }\n",
       "\n",
       "    .dataframe tbody tr th {\n",
       "        vertical-align: top;\n",
       "    }\n",
       "\n",
       "    .dataframe thead th {\n",
       "        text-align: right;\n",
       "    }\n",
       "</style>\n",
       "<table border=\"1\" class=\"dataframe\">\n",
       "  <thead>\n",
       "    <tr style=\"text-align: right;\">\n",
       "      <th></th>\n",
       "      <th>Questions</th>\n",
       "      <th>Réponses</th>\n",
       "    </tr>\n",
       "  </thead>\n",
       "  <tbody>\n",
       "    <tr>\n",
       "      <th>0</th>\n",
       "      <td>[récolte, patch]</td>\n",
       "      <td>[patch, récolte, plusieurs, paramètres, physio...</td>\n",
       "    </tr>\n",
       "    <tr>\n",
       "      <th>1</th>\n",
       "      <td>[combien, coûte, patch]</td>\n",
       "      <td>[faut, compter, environ, cinquantaine, euros]</td>\n",
       "    </tr>\n",
       "    <tr>\n",
       "      <th>2</th>\n",
       "      <td>[où, vont, données]</td>\n",
       "      <td>[vont, serveur, sécurisé, permettre, médecin, ...</td>\n",
       "    </tr>\n",
       "    <tr>\n",
       "      <th>3</th>\n",
       "      <td>[récolte, données]</td>\n",
       "      <td>[données, récoltées, serveur, sécurisé, relié,...</td>\n",
       "    </tr>\n",
       "    <tr>\n",
       "      <th>4</th>\n",
       "      <td>[fais, patch]</td>\n",
       "      <td>[récolte, données, physiologiques, suivre, éta...</td>\n",
       "    </tr>\n",
       "  </tbody>\n",
       "</table>\n",
       "</div>"
      ],
      "text/plain": [
       "                 Questions                                           Réponses\n",
       "0         [récolte, patch]  [patch, récolte, plusieurs, paramètres, physio...\n",
       "1  [combien, coûte, patch]      [faut, compter, environ, cinquantaine, euros]\n",
       "2      [où, vont, données]  [vont, serveur, sécurisé, permettre, médecin, ...\n",
       "3       [récolte, données]  [données, récoltées, serveur, sécurisé, relié,...\n",
       "4            [fais, patch]  [récolte, données, physiologiques, suivre, éta..."
      ]
     },
     "execution_count": 9,
     "metadata": {},
     "output_type": "execute_result"
    }
   ],
   "source": [
    "# Here we remove the stop words from our sentences:\n",
    "\n",
    "data[\"Questions\"] = data[\"Questions\"].apply(lambda q: [word for word in q if word not in stop_words])\n",
    "data[\"Réponses\"] = data[\"Réponses\"].apply(lambda r: [word for word in r if word not in stop_words])\n",
    "\n",
    "data.head()"
   ]
  },
  {
   "cell_type": "code",
   "execution_count": 10,
   "metadata": {},
   "outputs": [
    {
     "data": {
      "text/html": [
       "<div>\n",
       "<style scoped>\n",
       "    .dataframe tbody tr th:only-of-type {\n",
       "        vertical-align: middle;\n",
       "    }\n",
       "\n",
       "    .dataframe tbody tr th {\n",
       "        vertical-align: top;\n",
       "    }\n",
       "\n",
       "    .dataframe thead th {\n",
       "        text-align: right;\n",
       "    }\n",
       "</style>\n",
       "<table border=\"1\" class=\"dataframe\">\n",
       "  <thead>\n",
       "    <tr style=\"text-align: right;\">\n",
       "      <th></th>\n",
       "      <th>Questions</th>\n",
       "      <th>Réponses</th>\n",
       "    </tr>\n",
       "  </thead>\n",
       "  <tbody>\n",
       "    <tr>\n",
       "      <th>0</th>\n",
       "      <td>récolte patch</td>\n",
       "      <td>patch récolte plusieurs paramètres physiologiq...</td>\n",
       "    </tr>\n",
       "    <tr>\n",
       "      <th>1</th>\n",
       "      <td>combien coûte patch</td>\n",
       "      <td>faut compter environ cinquantaine euros</td>\n",
       "    </tr>\n",
       "    <tr>\n",
       "      <th>2</th>\n",
       "      <td>où vont données</td>\n",
       "      <td>vont serveur sécurisé permettre médecin avoir ...</td>\n",
       "    </tr>\n",
       "    <tr>\n",
       "      <th>3</th>\n",
       "      <td>récolte données</td>\n",
       "      <td>données récoltées serveur sécurisé relié appli...</td>\n",
       "    </tr>\n",
       "    <tr>\n",
       "      <th>4</th>\n",
       "      <td>fais patch</td>\n",
       "      <td>récolte données physiologiques suivre état car...</td>\n",
       "    </tr>\n",
       "  </tbody>\n",
       "</table>\n",
       "</div>"
      ],
      "text/plain": [
       "             Questions                                           Réponses\n",
       "0        récolte patch  patch récolte plusieurs paramètres physiologiq...\n",
       "1  combien coûte patch            faut compter environ cinquantaine euros\n",
       "2      où vont données  vont serveur sécurisé permettre médecin avoir ...\n",
       "3      récolte données  données récoltées serveur sécurisé relié appli...\n",
       "4           fais patch  récolte données physiologiques suivre état car..."
      ]
     },
     "execution_count": 10,
     "metadata": {},
     "output_type": "execute_result"
    }
   ],
   "source": [
    "# we have to remove the [] of the lists in each row :\n",
    "\n",
    "data[\"Questions\"] = data[\"Questions\"].apply(lambda x: \" \".join(x))\n",
    "data[\"Réponses\"] = data[\"Réponses\"].apply(lambda x: \" \".join(x))\n",
    "\n",
    "data.head()"
   ]
  },
  {
   "cell_type": "code",
   "execution_count": 11,
   "metadata": {
    "scrolled": true
   },
   "outputs": [
    {
     "name": "stdout",
     "output_type": "stream",
     "text": [
      "Your question: Qu'elle est l'action de ce patch?\n"
     ]
    },
    {
     "data": {
      "text/plain": [
       "'action patch'"
      ]
     },
     "execution_count": 11,
     "metadata": {},
     "output_type": "execute_result"
    }
   ],
   "source": [
    "# Function to clean the new data, the inputs:\n",
    "\n",
    "def cln_input(sentence):\n",
    "    sentence = sentence.lower()\n",
    "    sentence = re.sub(r'(\\?)|(\\!)|(\\.)|(\\,)|(\\\")', '', sentence)\n",
    "    sentence = re.sub(r'(\\-)|(\\')|(\\s\\w\\s)', ' ', sentence)\n",
    "    res = sentence.split()\n",
    "    res = [w for w in res if w not in stop_words]\n",
    "    res = \" \".join(res)\n",
    "    return res\n",
    "        \n",
    "test = input(\"Your question: \")\n",
    "\n",
    "resultat = cln_input(test)\n",
    "resultat"
   ]
  },
  {
   "cell_type": "markdown",
   "metadata": {},
   "source": [
    "### Create a ML model:"
   ]
  },
  {
   "cell_type": "code",
   "execution_count": 12,
   "metadata": {},
   "outputs": [],
   "source": [
    "X = data[\"Questions\"]\n",
    "\n",
    "y = data[\"Réponses\"]"
   ]
  },
  {
   "cell_type": "code",
   "execution_count": 13,
   "metadata": {},
   "outputs": [
    {
     "data": {
      "text/plain": [
       "0                           récolte patch\n",
       "1                     combien coûte patch\n",
       "2                         où vont données\n",
       "3                         récolte données\n",
       "4                              fais patch\n",
       "5                        dirige devinnova\n",
       "6                     directeur devinnova\n",
       "7        puis appeler plus renseignements\n",
       "8                          devinnova quoi\n",
       "9               pourquoi récolter données\n",
       "10                               quoi ecg\n",
       "11               quoi électrocardiogramme\n",
       "12                     myangel vitalsigns\n",
       "13                    comment dois mettre\n",
       "14    comment utiliser myangel vitalsigns\n",
       "15                           action patch\n",
       "Name: Questions, dtype: object"
      ]
     },
     "execution_count": 13,
     "metadata": {},
     "output_type": "execute_result"
    }
   ],
   "source": [
    "# We append the input at the end of X to compare it to the data later:\n",
    "X[len(X)]=resultat\n",
    "X"
   ]
  },
  {
   "cell_type": "code",
   "execution_count": 14,
   "metadata": {},
   "outputs": [],
   "source": [
    "from sklearn.feature_extraction.text import TfidfVectorizer\n",
    "\n",
    "vec = TfidfVectorizer()\n",
    "X_tfidf = vec.fit_transform(X).toarray()\n",
    "# if you don't put .toarray() you'll have a sparse matrix"
   ]
  },
  {
   "cell_type": "code",
   "execution_count": 15,
   "metadata": {
    "scrolled": true
   },
   "outputs": [
    {
     "data": {
      "text/plain": [
       "array([[0.        , 0.        , 0.        , 0.        , 0.        ,\n",
       "        0.        , 0.        , 0.        , 0.        , 0.        ,\n",
       "        0.        , 0.        , 0.        , 0.        , 0.        ,\n",
       "        0.63091934, 0.        , 0.        , 0.        , 0.        ,\n",
       "        0.        , 0.77584843, 0.        , 0.        , 0.        ,\n",
       "        0.        , 0.        ],\n",
       "       [0.        , 0.        , 0.63226102, 0.        , 0.63226102,\n",
       "        0.        , 0.        , 0.        , 0.        , 0.        ,\n",
       "        0.        , 0.        , 0.        , 0.        , 0.        ,\n",
       "        0.44776334, 0.        , 0.        , 0.        , 0.        ,\n",
       "        0.        , 0.        , 0.        , 0.        , 0.        ,\n",
       "        0.        , 0.        ],\n",
       "       [0.        , 0.        , 0.        , 0.        , 0.        ,\n",
       "        0.        , 0.        , 0.        , 0.        , 0.48260314,\n",
       "        0.        , 0.        , 0.        , 0.        , 0.6193118 ,\n",
       "        0.        , 0.        , 0.        , 0.        , 0.        ,\n",
       "        0.        , 0.        , 0.        , 0.        , 0.        ,\n",
       "        0.6193118 , 0.        ],\n",
       "       [0.        , 0.        , 0.        , 0.        , 0.        ,\n",
       "        0.        , 0.        , 0.        , 0.        , 0.66682069,\n",
       "        0.        , 0.        , 0.        , 0.        , 0.        ,\n",
       "        0.        , 0.        , 0.        , 0.        , 0.        ,\n",
       "        0.        , 0.7452182 , 0.        , 0.        , 0.        ,\n",
       "        0.        , 0.        ],\n",
       "       [0.        , 0.        , 0.        , 0.        , 0.        ,\n",
       "        0.        , 0.        , 0.        , 0.        , 0.        ,\n",
       "        0.        , 0.81607818, 0.        , 0.        , 0.        ,\n",
       "        0.57794152, 0.        , 0.        , 0.        , 0.        ,\n",
       "        0.        , 0.        , 0.        , 0.        , 0.        ,\n",
       "        0.        , 0.        ],\n",
       "       [0.        , 0.        , 0.        , 0.        , 0.        ,\n",
       "        0.61466742, 0.        , 0.78878638, 0.        , 0.        ,\n",
       "        0.        , 0.        , 0.        , 0.        , 0.        ,\n",
       "        0.        , 0.        , 0.        , 0.        , 0.        ,\n",
       "        0.        , 0.        , 0.        , 0.        , 0.        ,\n",
       "        0.        , 0.        ],\n",
       "       [0.        , 0.        , 0.        , 0.        , 0.        ,\n",
       "        0.61466742, 0.78878638, 0.        , 0.        , 0.        ,\n",
       "        0.        , 0.        , 0.        , 0.        , 0.        ,\n",
       "        0.        , 0.        , 0.        , 0.        , 0.        ,\n",
       "        0.        , 0.        , 0.        , 0.        , 0.        ,\n",
       "        0.        , 0.        ],\n",
       "       [0.        , 0.5       , 0.        , 0.        , 0.        ,\n",
       "        0.        , 0.        , 0.        , 0.        , 0.        ,\n",
       "        0.        , 0.        , 0.        , 0.        , 0.        ,\n",
       "        0.        , 0.5       , 0.        , 0.5       , 0.        ,\n",
       "        0.5       , 0.        , 0.        , 0.        , 0.        ,\n",
       "        0.        , 0.        ],\n",
       "       [0.        , 0.        , 0.        , 0.        , 0.        ,\n",
       "        0.70710678, 0.        , 0.        , 0.        , 0.        ,\n",
       "        0.        , 0.        , 0.        , 0.        , 0.        ,\n",
       "        0.        , 0.        , 0.        , 0.        , 0.70710678,\n",
       "        0.        , 0.        , 0.        , 0.        , 0.        ,\n",
       "        0.        , 0.        ],\n",
       "       [0.        , 0.        , 0.        , 0.        , 0.        ,\n",
       "        0.        , 0.        , 0.        , 0.        , 0.48260314,\n",
       "        0.        , 0.        , 0.        , 0.        , 0.        ,\n",
       "        0.        , 0.        , 0.6193118 , 0.        , 0.        ,\n",
       "        0.        , 0.        , 0.6193118 , 0.        , 0.        ,\n",
       "        0.        , 0.        ],\n",
       "       [0.        , 0.        , 0.        , 0.        , 0.        ,\n",
       "        0.        , 0.        , 0.        , 0.        , 0.        ,\n",
       "        0.78878638, 0.        , 0.        , 0.        , 0.        ,\n",
       "        0.        , 0.        , 0.        , 0.        , 0.61466742,\n",
       "        0.        , 0.        , 0.        , 0.        , 0.        ,\n",
       "        0.        , 0.        ],\n",
       "       [0.        , 0.        , 0.        , 0.        , 0.        ,\n",
       "        0.        , 0.        , 0.        , 0.        , 0.        ,\n",
       "        0.        , 0.        , 0.        , 0.        , 0.        ,\n",
       "        0.        , 0.        , 0.        , 0.        , 0.61466742,\n",
       "        0.        , 0.        , 0.        , 0.        , 0.        ,\n",
       "        0.        , 0.78878638],\n",
       "       [0.        , 0.        , 0.        , 0.        , 0.        ,\n",
       "        0.        , 0.        , 0.        , 0.        , 0.        ,\n",
       "        0.        , 0.        , 0.        , 0.70710678, 0.        ,\n",
       "        0.        , 0.        , 0.        , 0.        , 0.        ,\n",
       "        0.        , 0.        , 0.        , 0.        , 0.70710678,\n",
       "        0.        , 0.        ],\n",
       "       [0.        , 0.        , 0.        , 0.52435438, 0.        ,\n",
       "        0.        , 0.        , 0.        , 0.60210152, 0.        ,\n",
       "        0.        , 0.        , 0.60210152, 0.        , 0.        ,\n",
       "        0.        , 0.        , 0.        , 0.        , 0.        ,\n",
       "        0.        , 0.        , 0.        , 0.        , 0.        ,\n",
       "        0.        , 0.        ],\n",
       "       [0.        , 0.        , 0.        , 0.48120717, 0.        ,\n",
       "        0.        , 0.        , 0.        , 0.        , 0.        ,\n",
       "        0.        , 0.        , 0.        , 0.48120717, 0.        ,\n",
       "        0.        , 0.        , 0.        , 0.        , 0.        ,\n",
       "        0.        , 0.        , 0.        , 0.55255678, 0.48120717,\n",
       "        0.        , 0.        ],\n",
       "       [0.81607818, 0.        , 0.        , 0.        , 0.        ,\n",
       "        0.        , 0.        , 0.        , 0.        , 0.        ,\n",
       "        0.        , 0.        , 0.        , 0.        , 0.        ,\n",
       "        0.57794152, 0.        , 0.        , 0.        , 0.        ,\n",
       "        0.        , 0.        , 0.        , 0.        , 0.        ,\n",
       "        0.        , 0.        ]])"
      ]
     },
     "execution_count": 15,
     "metadata": {},
     "output_type": "execute_result"
    }
   ],
   "source": [
    "X_tfidf"
   ]
  },
  {
   "cell_type": "markdown",
   "metadata": {},
   "source": [
    "### Now let's calculate the cosinus beetween the input and the matrice of our training data:\n",
    "\n",
    "The cosinus that will be the nearest to 1 will be the answer that corresponds the most to our input (new question).\n",
    "cosinus = 0 means totally different, \"independent\"."
   ]
  },
  {
   "cell_type": "code",
   "execution_count": 16,
   "metadata": {
    "scrolled": true
   },
   "outputs": [
    {
     "data": {
      "text/plain": [
       "array([0.81607818, 0.        , 0.        , 0.        , 0.        ,\n",
       "       0.        , 0.        , 0.        , 0.        , 0.        ,\n",
       "       0.        , 0.        , 0.        , 0.        , 0.        ,\n",
       "       0.57794152, 0.        , 0.        , 0.        , 0.        ,\n",
       "       0.        , 0.        , 0.        , 0.        , 0.        ,\n",
       "       0.        , 0.        ])"
      ]
     },
     "execution_count": 16,
     "metadata": {},
     "output_type": "execute_result"
    }
   ],
   "source": [
    "# Now we have to separate the input from the rest of the matrix:\n",
    "\n",
    "x_input = X_tfidf[-1]\n",
    "x_input"
   ]
  },
  {
   "cell_type": "code",
   "execution_count": 17,
   "metadata": {},
   "outputs": [
    {
     "data": {
      "text/plain": [
       "16"
      ]
     },
     "execution_count": 17,
     "metadata": {},
     "output_type": "execute_result"
    }
   ],
   "source": [
    "len(X_tfidf)"
   ]
  },
  {
   "cell_type": "code",
   "execution_count": 18,
   "metadata": {},
   "outputs": [
    {
     "data": {
      "text/plain": [
       "15"
      ]
     },
     "execution_count": 18,
     "metadata": {},
     "output_type": "execute_result"
    }
   ],
   "source": [
    "X_tfidf = X_tfidf[:-1]\n",
    "len(X_tfidf)"
   ]
  },
  {
   "cell_type": "code",
   "execution_count": 19,
   "metadata": {},
   "outputs": [],
   "source": [
    "from sklearn.metrics.pairwise import cosine_similarity\n",
    "\n",
    "cos = cosine_similarity(x_input.reshape(1, -1), X_tfidf)"
   ]
  },
  {
   "cell_type": "code",
   "execution_count": 20,
   "metadata": {},
   "outputs": [
    {
     "data": {
      "text/plain": [
       "array([[0.36463448, 0.25878103, 0.        , 0.        , 0.3340164 ,\n",
       "        0.        , 0.        , 0.        , 0.        , 0.        ,\n",
       "        0.        , 0.        , 0.        , 0.        , 0.        ]])"
      ]
     },
     "execution_count": 20,
     "metadata": {},
     "output_type": "execute_result"
    }
   ],
   "source": [
    "cos"
   ]
  },
  {
   "cell_type": "code",
   "execution_count": 21,
   "metadata": {},
   "outputs": [
    {
     "data": {
      "text/plain": [
       "0"
      ]
     },
     "execution_count": 21,
     "metadata": {},
     "output_type": "execute_result"
    }
   ],
   "source": [
    "np.argmax(cos)"
   ]
  },
  {
   "cell_type": "markdown",
   "metadata": {},
   "source": [
    "So here above we can see that the question already know that is the nearest to our new question is the first one (index == 0). So we'll return the ansmwer corresponding to this first question:"
   ]
  },
  {
   "cell_type": "code",
   "execution_count": 22,
   "metadata": {},
   "outputs": [],
   "source": [
    "original_data = pd.read_csv(\"Questions_Rep.csv\", sep=\"\\t\")"
   ]
  },
  {
   "cell_type": "code",
   "execution_count": 23,
   "metadata": {},
   "outputs": [
    {
     "data": {
      "text/plain": [
       "' Le patch récolte plusieurs paramètres physiologiques comme la température du corps, la saturation en oxygène et l électrocardiogramme en 3 dérivations. '"
      ]
     },
     "execution_count": 23,
     "metadata": {},
     "output_type": "execute_result"
    }
   ],
   "source": [
    "original_data[\"Réponses\"][np.argmax(cos)]"
   ]
  }
 ],
 "metadata": {
  "kernelspec": {
   "display_name": "Python 3",
   "language": "python",
   "name": "python3"
  },
  "language_info": {
   "codemirror_mode": {
    "name": "ipython",
    "version": 3
   },
   "file_extension": ".py",
   "mimetype": "text/x-python",
   "name": "python",
   "nbconvert_exporter": "python",
   "pygments_lexer": "ipython3",
   "version": "3.7.3"
  }
 },
 "nbformat": 4,
 "nbformat_minor": 2
}
